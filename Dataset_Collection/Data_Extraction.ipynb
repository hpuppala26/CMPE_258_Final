{
  "cells": [
    {
      "cell_type": "code",
      "execution_count": 1,
      "metadata": {
        "id": "j7Y9SOEoOI8R"
      },
      "outputs": [],
      "source": [
        "# Importing necessary libraries\n",
        "import requests\n",
        "from bs4 import BeautifulSoup\n",
        "import json\n"
      ]
    },
    {
      "cell_type": "code",
      "execution_count": 8,
      "metadata": {
        "id": "dERIxpisO8F1"
      },
      "outputs": [],
      "source": [
        "def scrape_page(url):\n",
        "    # Send a request to the URL\n",
        "    response = requests.get(url)\n",
        "    soup = BeautifulSoup(response.text, 'html.parser')\n",
        "\n",
        "    questions = soup.find_all('p', class_='question')\n",
        "    data = []\n",
        "    for question in questions:\n",
        "        answer = question.find_next_sibling('p', class_='answer')\n",
        "        if answer:\n",
        "            data.append({\n",
        "                'question': question.text.strip(),\n",
        "                'answer': answer.text.strip()\n",
        "            })\n",
        "    return data\n"
      ]
    },
    {
      "cell_type": "code",
      "execution_count": 3,
      "metadata": {
        "id": "Bj0tg6gmPBXl"
      },
      "outputs": [],
      "source": [
        "def main(urls):\n",
        "    all_data = []\n",
        "    for url in urls:\n",
        "        all_data.extend(scrape_page(url))\n",
        "        if len(all_data) >= 100:  # Stop once we collect at least 100 Q&A pairs\n",
        "            break\n",
        "    return all_data[:100]  # Return only the first 100 entries\n"
      ]
    },
    {
      "cell_type": "code",
      "execution_count": 4,
      "metadata": {
        "id": "ZN_G1cs0PCRL"
      },
      "outputs": [],
      "source": [
        "def save_to_json(data, filename='data.json'):\n",
        "    with open(filename, 'w') as file:\n",
        "        json.dump(data, file, indent=4)\n"
      ]
    },
    {
      "cell_type": "code",
      "execution_count": 7,
      "metadata": {
        "id": "2BXvzxIPPGGH"
      },
      "outputs": [],
      "source": [
        "urls = [\n",
        "    'http://example.com/faq1',\n",
        "    'http://example.com/faq2',\n",
        "]\n",
        "\n",
        "# Running the main function\n",
        "extracted_data = main(urls)\n",
        "\n",
        "# Saving the data to a JSON file\n",
        "save_to_json(extracted_data)\n"
      ]
    }
  ],
  "metadata": {
    "colab": {
      "provenance": []
    },
    "kernelspec": {
      "display_name": "Python 3",
      "name": "python3"
    },
    "language_info": {
      "name": "python"
    }
  },
  "nbformat": 4,
  "nbformat_minor": 0
}
